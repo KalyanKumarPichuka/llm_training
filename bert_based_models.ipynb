{
 "cells": [
  {
   "cell_type": "code",
   "execution_count": 11,
   "metadata": {},
   "outputs": [],
   "source": [
    "corpus_1 = [\n",
    "    \"the cat sat on the mat\",\n",
    "    \"the dog sat on the mat\",\n",
    "    \"the mat is on the floor\"\n",
    "]\n",
    "\n",
    "corpus_2 = [\n",
    "    \"artificial intelligence is the future\",\n",
    "    \"machine learning is a subset of artificial intelligence\",\n",
    "    \"the future of AI is bright\"\n",
    "]\n",
    "\n",
    "corpus_3 = [\"NLP is evolving fast\", \"Machine learning is evolving\", \"Future of NLP is bright\"]\n",
    "\n",
    "corpus_4 = [\n",
    "    \"Machine learning improves decision-making in businesses.\",\n",
    "    \"Businesses use machine learning for data analysis.\",\n",
    "    \"Deep learning and neural networks outperform traditional models.\"\n",
    "]"
   ]
  },
  {
   "cell_type": "code",
   "execution_count": 12,
   "metadata": {},
   "outputs": [
    {
     "name": "stdout",
     "output_type": "stream",
     "text": [
      "BERT Similarity Score: 0.9618722\n"
     ]
    }
   ],
   "source": [
    "from transformers import BertTokenizer, BertModel\n",
    "import torch\n",
    "from sklearn.metrics.pairwise import cosine_similarity\n",
    "\n",
    "# Load BERT tokenizer and model\n",
    "tokenizer = BertTokenizer.from_pretrained(\"bert-base-uncased\")\n",
    "model = BertModel.from_pretrained(\"bert-base-uncased\")\n",
    "\n",
    "# Tokenize input sentences\n",
    "sentences = [\"How do I start learning Python?\", \"What are the first steps to learning Python?\"]\n",
    "inputs = tokenizer(sentences, padding=True, truncation=True, return_tensors=\"pt\")\n",
    "\n",
    "# Get BERT embeddings\n",
    "with torch.no_grad():\n",
    "    outputs = model(**inputs)\n",
    "\n",
    "# Extract sentence embeddings using the [CLS] token\n",
    "sentence_embeddings = outputs.last_hidden_state[:, 0, :].numpy()\n",
    "\n",
    "# Compute cosine similarity\n",
    "similarity_score = cosine_similarity([sentence_embeddings[0]], [sentence_embeddings[1]])\n",
    "print(\"BERT Similarity Score:\", similarity_score[0][0])\n"
   ]
  },
  {
   "cell_type": "code",
   "execution_count": 13,
   "metadata": {},
   "outputs": [
    {
     "name": "stdout",
     "output_type": "stream",
     "text": [
      "SBERT Similarity Score: 0.92464805\n"
     ]
    }
   ],
   "source": [
    "from sentence_transformers import SentenceTransformer\n",
    "\n",
    "# Load pre-trained SBERT model\n",
    "model = SentenceTransformer('all-MiniLM-L6-v2')\n",
    "\n",
    "# Define sentences\n",
    "sentences = [\"How do I start learning Python?\", \"What are the first steps to learning Python?\"]\n",
    "\n",
    "# Compute SBERT embeddings\n",
    "sentence_embeddings = model.encode(sentences)\n",
    "\n",
    "# Compute cosine similarity\n",
    "similarity_score = cosine_similarity([sentence_embeddings[0]], [sentence_embeddings[1]])\n",
    "print(\"SBERT Similarity Score:\", similarity_score[0][0])\n"
   ]
  },
  {
   "cell_type": "code",
   "execution_count": 22,
   "metadata": {},
   "outputs": [
    {
     "name": "stdout",
     "output_type": "stream",
     "text": [
      "artificial intelligence is the future\n",
      "machine learning is a subset of artificial intelligence\n",
      "BERT Similarity Score: 0.8469002\n"
     ]
    }
   ],
   "source": [
    "from transformers import BertTokenizer, BertModel\n",
    "import torch\n",
    "from sklearn.metrics.pairwise import cosine_similarity\n",
    "\n",
    "# Load BERT tokenizer and model\n",
    "tokenizer = BertTokenizer.from_pretrained(\"bert-base-uncased\")\n",
    "model = BertModel.from_pretrained(\"bert-base-uncased\")\n",
    "\n",
    "# Tokenize input sentences\n",
    "sentences = corpus_2\n",
    "inputs = tokenizer(sentences, padding=True, truncation=True, return_tensors=\"pt\")\n",
    "\n",
    "# Get BERT embeddings\n",
    "with torch.no_grad():\n",
    "    outputs = model(**inputs)\n",
    "\n",
    "# Extract sentence embeddings using the [CLS] token\n",
    "sentence_embeddings = outputs.last_hidden_state[:, 0, :].numpy()\n",
    "\n",
    "# Compute cosine similarity\n",
    "similarity_score = cosine_similarity([sentence_embeddings[0]], [sentence_embeddings[1]])\n",
    "print(corpus_2[0])\n",
    "print(corpus_2[1])\n",
    "print(\"BERT Similarity Score:\", similarity_score[0][0])\n"
   ]
  },
  {
   "cell_type": "code",
   "execution_count": 21,
   "metadata": {},
   "outputs": [
    {
     "name": "stdout",
     "output_type": "stream",
     "text": [
      "artificial intelligence is the future\n",
      "the future of AI is bright\n",
      "BERT Similarity Score: 0.8215015\n"
     ]
    }
   ],
   "source": [
    "print(corpus_2[0])\n",
    "print(corpus_2[2])\n",
    "similarity_score = cosine_similarity([sentence_embeddings[0]], [sentence_embeddings[2]])\n",
    "print(\"BERT Similarity Score:\", similarity_score[0][0])"
   ]
  },
  {
   "cell_type": "code",
   "execution_count": 24,
   "metadata": {},
   "outputs": [
    {
     "name": "stdout",
     "output_type": "stream",
     "text": [
      "artificial intelligence is the future\n",
      "machine learning is a subset of artificial intelligence\n",
      "SBERT Similarity Score: 0.5939864\n"
     ]
    }
   ],
   "source": [
    "from sentence_transformers import SentenceTransformer\n",
    "\n",
    "# Load pre-trained SBERT model\n",
    "model = SentenceTransformer('all-MiniLM-L6-v2')\n",
    "\n",
    "# Define sentences\n",
    "sentences = corpus_2\n",
    "\n",
    "# Compute SBERT embeddings\n",
    "sentence_embeddings = model.encode(sentences)\n",
    "\n",
    "# Compute cosine similarity\n",
    "similarity_score = cosine_similarity([sentence_embeddings[0]], [sentence_embeddings[1]])\n",
    "print(corpus_2[0])\n",
    "print(corpus_2[1])\n",
    "print(\"SBERT Similarity Score:\", similarity_score[0][0])\n"
   ]
  },
  {
   "cell_type": "code",
   "execution_count": 23,
   "metadata": {},
   "outputs": [
    {
     "name": "stdout",
     "output_type": "stream",
     "text": [
      "artificial intelligence is the future\n",
      "the future of AI is bright\n",
      "SBERT Similarity Score: 0.94385934\n"
     ]
    }
   ],
   "source": [
    "similarity_score = cosine_similarity([sentence_embeddings[0]], [sentence_embeddings[2]])\n",
    "print(corpus_2[0])\n",
    "print(corpus_2[2])\n",
    "print(\"SBERT Similarity Score:\", similarity_score[0][0])"
   ]
  },
  {
   "cell_type": "code",
   "execution_count": 25,
   "metadata": {},
   "outputs": [
    {
     "name": "stderr",
     "output_type": "stream",
     "text": [
      "Some weights of the model checkpoint at bert-base-uncased were not used when initializing BertForMaskedLM: ['bert.pooler.dense.bias', 'bert.pooler.dense.weight', 'cls.seq_relationship.bias', 'cls.seq_relationship.weight']\n",
      "- This IS expected if you are initializing BertForMaskedLM from the checkpoint of a model trained on another task or with another architecture (e.g. initializing a BertForSequenceClassification model from a BertForPreTraining model).\n",
      "- This IS NOT expected if you are initializing BertForMaskedLM from the checkpoint of a model that you expect to be exactly identical (initializing a BertForSequenceClassification model from a BertForSequenceClassification model).\n",
      "Device set to use mps:0\n"
     ]
    },
    {
     "name": "stdout",
     "output_type": "stream",
     "text": [
      "Predicted: cat (Confidence: 0.2298)\n",
      "Predicted: dog (Confidence: 0.1143)\n",
      "Predicted: bear (Confidence: 0.0780)\n"
     ]
    }
   ],
   "source": [
    "from transformers import pipeline\n",
    "\n",
    "# Load BERT fill-mask pipeline\n",
    "fill_mask = pipeline(\"fill-mask\", model=\"bert-base-uncased\")\n",
    "\n",
    "# Test sentence with a masked word\n",
    "sentence = \"The quick brown [MASK] jumps over the lazy dog.\"\n",
    "\n",
    "# Get BERT predictions\n",
    "predictions = fill_mask(sentence)\n",
    "\n",
    "# Print top 3 predictions\n",
    "for pred in predictions[:3]:\n",
    "    print(f\"Predicted: {pred['token_str']} (Confidence: {pred['score']:.4f})\")\n"
   ]
  },
  {
   "cell_type": "code",
   "execution_count": null,
   "metadata": {},
   "outputs": [],
   "source": []
  }
 ],
 "metadata": {
  "kernelspec": {
   "display_name": "llm",
   "language": "python",
   "name": "python3"
  },
  "language_info": {
   "codemirror_mode": {
    "name": "ipython",
    "version": 3
   },
   "file_extension": ".py",
   "mimetype": "text/x-python",
   "name": "python",
   "nbconvert_exporter": "python",
   "pygments_lexer": "ipython3",
   "version": "3.11.9"
  }
 },
 "nbformat": 4,
 "nbformat_minor": 2
}
